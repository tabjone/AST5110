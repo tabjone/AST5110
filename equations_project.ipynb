{
 "cells": [
  {
   "cell_type": "markdown",
   "id": "d2180e38",
   "metadata": {},
   "source": [
    "$$\n",
    "\\frac{\\partial\\rho}{\\partial t} = -\\rho\\frac{\\partial u_x}{\\partial x} - u_x\\frac{\\partial\\rho}{\\partial x}\n",
    "$$"
   ]
  },
  {
   "cell_type": "markdown",
   "id": "5e23f5d2",
   "metadata": {},
   "source": [
    "\\begin{align}\n",
    "\\frac{\\partial(\\rho u_x)}{\\partial t} &= -\\left(\\rho u_x\\frac{\\partial u_x}{\\partial x}+u_x\\frac{\\partial(\\rho u_x)}{\\partial x} \\right) - \\frac{\\partial P_g}{\\partial x}\\\\\n",
    "\\\\\n",
    "\\frac{\\partial(\\rho u_y)}{\\partial t} &= -\\left(\\rho u_y\\frac{\\partial u_x}{\\partial x}+u_x\\frac{\\partial(\\rho u_y)}{\\partial x} \\right)\\\\\n",
    "\\\\\n",
    "\\frac{\\partial(\\rho u_z)}{\\partial t} &= -\\left(\\rho u_z\\frac{\\partial u_x}{\\partial x}+u_x\\frac{\\partial(\\rho u_z)}{\\partial x} \\right)\\\\\n",
    "\\end{align}"
   ]
  },
  {
   "cell_type": "markdown",
   "id": "4a597926",
   "metadata": {},
   "source": [
    "$$\n",
    "\\frac{\\partial e}{\\partial t} = -u_x\\frac{\\partial e}{\\partial x} - (e+P_g)\\frac{\\partial u_x}{\\partial x}\n",
    "$$"
   ]
  },
  {
   "cell_type": "code",
   "execution_count": null,
   "id": "d3f08ae4",
   "metadata": {},
   "outputs": [],
   "source": []
  }
 ],
 "metadata": {
  "kernelspec": {
   "display_name": "Python 3 (ipykernel)",
   "language": "python",
   "name": "python3"
  },
  "language_info": {
   "codemirror_mode": {
    "name": "ipython",
    "version": 3
   },
   "file_extension": ".py",
   "mimetype": "text/x-python",
   "name": "python",
   "nbconvert_exporter": "python",
   "pygments_lexer": "ipython3",
   "version": "3.9.6"
  }
 },
 "nbformat": 4,
 "nbformat_minor": 5
}
