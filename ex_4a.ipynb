{
 "cells": [
  {
   "cell_type": "code",
   "execution_count": 1,
   "metadata": {},
   "outputs": [],
   "source": [
    "import numpy as np\n",
    "from nm_lib import nm_lib as nm\n",
    "import threading\n",
    "\n",
    "import matplotlib.pyplot as plt\n",
    "from mpl_toolkits.mplot3d import Axes3D\n",
    "\n",
    "from matplotlib import animation\n",
    "from matplotlib.animation import FuncAnimation\n",
    "from IPython.display import HTML"
   ]
  },
  {
   "cell_type": "markdown",
   "metadata": {},
   "source": [
    "# Stabilities and accuracy in time. "
   ]
  },
  {
   "cell_type": "code",
   "execution_count": 5,
   "metadata": {},
   "outputs": [],
   "source": [
    "def u_ex2(x):\n",
    "    \"\"\"\n",
    "    u(x) function from eq. (2)\"\"\"\n",
    "    return np.cos(db(6)*np.pi*x/db(5))**2/(np.cosh(db(5)*x**2))"
   ]
  },
  {
   "cell_type": "code",
   "execution_count": 2,
   "metadata": {},
   "outputs": [],
   "source": [
    "def u(x):\n",
    "    return A * (np.tanh((x+xc)/W) - np.tanh((x-xc)/W))\n",
    "\n",
    "def shift_xx(xx, a, t, xf, x0):\n",
    "    #let x-grid move with velocity a to the side and wrap around to other side\n",
    "    #takes in the velocity a and the current time t. And end of grid xf and start x0\n",
    "    xx_new = ((xx - a * t) - x0) % (xf - x0) + x0\n",
    "    return xx_new"
   ]
  },
  {
   "cell_type": "code",
   "execution_count": null,
   "metadata": {},
   "outputs": [],
   "source": [
    "A = 0.02\n",
    "xc = 0.70\n",
    "W = 0.1\n",
    "tf = 100"
   ]
  },
  {
   "cell_type": "code",
   "execution_count": 9,
   "metadata": {},
   "outputs": [
    {
     "ename": "NameError",
     "evalue": "name 'A' is not defined",
     "output_type": "error",
     "traceback": [
      "\u001b[0;31m---------------------------------------------------------------------------\u001b[0m",
      "\u001b[0;31mNameError\u001b[0m                                 Traceback (most recent call last)",
      "Cell \u001b[0;32mIn[9], line 9\u001b[0m\n\u001b[1;32m      7\u001b[0m \u001b[38;5;66;03m#xgrid\u001b[39;00m\n\u001b[1;32m      8\u001b[0m xx \u001b[38;5;241m=\u001b[39m np\u001b[38;5;241m.\u001b[39marange(nump)\u001b[38;5;241m/\u001b[39m(nump\u001b[38;5;241m-\u001b[39m\u001b[38;5;241m1.0\u001b[39m) \u001b[38;5;241m*\u001b[39m (xf\u001b[38;5;241m-\u001b[39mx0) \u001b[38;5;241m+\u001b[39m x0\n\u001b[0;32m----> 9\u001b[0m hh \u001b[38;5;241m=\u001b[39m \u001b[43mu\u001b[49m\u001b[43m(\u001b[49m\u001b[43mxx\u001b[49m\u001b[43m)\u001b[49m\n\u001b[1;32m     11\u001b[0m a \u001b[38;5;241m=\u001b[39m db(\u001b[38;5;241m-\u001b[39m\u001b[38;5;241m1\u001b[39m)\n",
      "Cell \u001b[0;32mIn[2], line 2\u001b[0m, in \u001b[0;36mu\u001b[0;34m(x)\u001b[0m\n\u001b[1;32m      1\u001b[0m \u001b[38;5;28;01mdef\u001b[39;00m \u001b[38;5;21mu\u001b[39m(x):\n\u001b[0;32m----> 2\u001b[0m     \u001b[38;5;28;01mreturn\u001b[39;00m \u001b[43mA\u001b[49m \u001b[38;5;241m*\u001b[39m (np\u001b[38;5;241m.\u001b[39mtanh((x\u001b[38;5;241m+\u001b[39mxc)\u001b[38;5;241m/\u001b[39mW) \u001b[38;5;241m-\u001b[39m np\u001b[38;5;241m.\u001b[39mtanh((x\u001b[38;5;241m-\u001b[39mxc)\u001b[38;5;241m/\u001b[39mW))\n",
      "\u001b[0;31mNameError\u001b[0m: name 'A' is not defined"
     ]
    }
   ],
   "source": [
    "x0 = -2.6\n",
    "xf = 2.6\n",
    "#number of x-points\n",
    "nump = 64\n",
    "#number of t-points\n",
    "nt = 100\n",
    "#xgrid\n",
    "xx = np.arange(nump)/(nump-1.0) * (xf-x0) + x0\n",
    "hh = u(xx)\n",
    "\n",
    "a = -1"
   ]
  },
  {
   "cell_type": "markdown",
   "metadata": {},
   "source": [
    "Von Neumann stability analysis: derive conditions on the mesh parameters ∆x and ∆t such that the growth of the discrete solutions are bounded by the growth of the analytical solutions.\n",
    "\n",
    "Assume peculiar solution on the form\n",
    "$$ \n",
    "u_j^n = \\xi^n e ^ {ikj\\Delta x}.\n",
    "$$\n",
    "Inserting this in equation (3).\n",
    "\n",
    "$$\n",
    "\\xi^{n+1} e^{ikj\\Delta x} = \\frac{1}{2}(\\xi^n e ^ {ik(j+1)\\Delta x} + \\xi^n e ^ {ik(j-1)\\Delta x})\n",
    "- \\frac{v\\Delta t}{2\\Delta x}(\\xi^n e ^ {ik(j+1)\\Delta x} - \\xi^n e ^ {ik(j-1)\\Delta x})\n",
    "$$\n",
    "\n",
    "$$\n",
    "\\xi^{n+1} e^{ikj\\Delta x} = \\xi^n e^{ikj\\Delta x}\\left[\\frac{1}{2}( e ^ {ik\\Delta x} +  e ^ {-ik\\Delta x})\n",
    "- \\frac{v\\Delta t}{2\\Delta x}( e ^ {ik\\Delta x} - e ^ {-ik\\Delta x})\\right]\n",
    "$$\n",
    "\n",
    "$$\n",
    "\\frac{\\xi^{n+1}}{\\xi^n} = \\frac{1}{2}( e ^ {ik\\Delta x} +  e ^ {-ik\\Delta x})\n",
    "- \\frac{v\\Delta t}{2\\Delta x}( e ^ {ik\\Delta x} - e ^ {-ik\\Delta x})\n",
    "$$\n",
    "\n",
    "$$\n",
    "\\xi = \\frac{1}{2}\\left( \\cos{(k\\Delta x)} + i\\sin{(k\\Delta x)} + \\cos{(k\\Delta x)} - i\\sin{(k\\Delta x)} \\right)\n",
    "- \\frac{v\\Delta t}{2\\Delta x}\\left(\\cos{(k\\Delta x)} + i\\sin{(k\\Delta x)} - \\cos{(k\\Delta x)} +  i\\sin{(k\\Delta x)}  \\right)\n",
    "$$\n",
    "\n",
    "$$\n",
    "\\xi = \\cos{(k\\Delta x)}\n",
    "- i \\frac{v\\Delta t}{\\Delta x}\\sin{(k\\Delta x)}\n",
    "$$\n",
    "\n",
    "We require that $|\\xi^n|^2\\leq 1$ for all $k$.\n",
    "\n",
    "Then \n",
    "\n",
    "$$\n",
    "|\\cos{(k\\Delta x)}\n",
    "- i \\frac{v\\Delta t}{\\Delta x}\\sin{(k\\Delta x)}|^2=\\cos^2{(k\\Delta x)} + \\frac{v^2\\Delta t^2}{\\Delta x^2}\\sin^2{(k\\Delta x)}  \\leq 1\n",
    "$$"
   ]
  },
  {
   "cell_type": "markdown",
   "metadata": {},
   "source": [
    "For this condition to hold for all $k$ and all $\\Delta x$, we need to have\n",
    "$$\n",
    "\\frac{v^2\\Delta t^2}{\\Delta x^2}\\leq1.\n",
    "$$\n",
    "This gives\n",
    "$$\n",
    "\\Delta t^2 \\leq \\frac{\\Delta x ^2}{v^2}\n",
    "$$\n",
    "\n",
    "$$\n",
    "\\Delta t \\leq \\frac{\\Delta x}{v}.\n",
    "$$"
   ]
  },
  {
   "cell_type": "markdown",
   "metadata": {},
   "source": [
    "## 1- Diffusive. \n",
    "\n",
    "Redo the exercise [ex_2b](https://github.com/AST-Course/AST5110/blob/main/ex_2b.ipynb) and compare the two methods, i.e., one from \n",
    "[ex_2b](https://github.com/AST-Course/AST5110/blob/main/ex_2b.ipynb) and the Lax-Method. \n",
    "\n",
    "Which one is more diffusive? Why? Rewrite Lax-method, so the right-hand side is as follows: \n",
    "\n",
    "$$\\frac{u^{n+1}-u^{n}}{\\Delta t} = ...$$\n",
    "\n",
    "What is the reminder term look like? Is the order of convergence the same for the two methods? "
   ]
  },
  {
   "cell_type": "code",
   "execution_count": null,
   "metadata": {},
   "outputs": [],
   "source": []
  },
  {
   "cell_type": "code",
   "execution_count": null,
   "metadata": {},
   "outputs": [],
   "source": [
    "fig, axes = plt.subplots(nrows=1, ncols=1, figsize=(10, 5))\n",
    "\n",
    "def init(): \n",
    "    axes.plot(xx,ut[0,:], label=\"numerical\")\n",
    "    axes.plot(xx,uu_analytic[0,:], label=\"analytic\", linestyle=\"--\")\n",
    "    axes.legend()\n",
    "    axes.set_ylim(-0.05, 1.05)\n",
    "    axes.grid(True)\n",
    "    \n",
    "def animate(i):\n",
    "    axes.clear()\n",
    "    axes.plot(xx,ut[i,:], label=\"numerical\")\n",
    "    axes.plot(xx,uu_analytic[i,:], label=\"analytic\",linestyle=\"--\")\n",
    "    axes.set_title('t={:.2f}, i={:g}'.format(tt[i],i))\n",
    "    axes.grid(True)\n",
    "    axes.legend()\n",
    "    axes.set_ylim(-0.05, 1.05)\n",
    "\n",
    "anim = FuncAnimation(fig, animate, interval=50, frames=nt, init_func=init)\n",
    "HTML(anim.to_jshtml())"
   ]
  },
  {
   "cell_type": "markdown",
   "metadata": {},
   "source": [
    "---\n",
    "\n",
    "(\\*) Equation (1) is, in fact, a shortened version of the full Burgers’ equation, which contains a viscosity term on the right-hand side, as follows:\n",
    "$$\\frac{\\partial u}{\\partial t} + u \\frac{\\partial u}{\\partial x} = \\nu \\frac{\\partial^2 u}{\\partial x^2}.$$"
   ]
  }
 ],
 "metadata": {
  "kernelspec": {
   "display_name": "Python 3 (ipykernel)",
   "language": "python",
   "name": "python3"
  },
  "language_info": {
   "codemirror_mode": {
    "name": "ipython",
    "version": 3
   },
   "file_extension": ".py",
   "mimetype": "text/x-python",
   "name": "python",
   "nbconvert_exporter": "python",
   "pygments_lexer": "ipython3",
   "version": "3.9.6"
  }
 },
 "nbformat": 4,
 "nbformat_minor": 4
}
